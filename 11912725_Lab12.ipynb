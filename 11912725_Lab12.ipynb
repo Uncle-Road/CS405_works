{
 "cells": [
  {
   "cell_type": "markdown",
   "source": [
    "# Lab 12\n",
    "**SID: 11912725**\n",
    "**Name: 周民涛**"
   ],
   "metadata": {
    "collapsed": false,
    "pycharm": {
     "name": "#%% md\n"
    }
   }
  },
  {
   "cell_type": "code",
   "execution_count": 10,
   "outputs": [],
   "source": [
    "import matplotlib.pyplot as plt\n",
    "import numpy as np"
   ],
   "metadata": {
    "collapsed": false,
    "pycharm": {
     "name": "#%%\n"
    }
   }
  },
  {
   "cell_type": "code",
   "execution_count": 11,
   "outputs": [
    {
     "name": "stderr",
     "output_type": "stream",
     "text": [
      "Clipping input data to the valid range for imshow with RGB data ([0..1] for floats or [0..255] for integers).\n"
     ]
    },
    {
     "data": {
      "text/plain": "<Figure size 432x288 with 1 Axes>",
      "image/png": "[encoded data removed]"
     },
     "metadata": {
      "needs_background": "light"
     },
     "output_type": "display_data"
    }
   ],
   "source": [
    "map_matrix = np.load(\"lab12_map_matrix.npy\")\n",
    "plt.imshow(map_matrix)\n",
    "plt.show()"
   ],
   "metadata": {
    "collapsed": false,
    "pycharm": {
     "name": "#%%\n"
    }
   }
  },
  {
   "cell_type": "code",
   "execution_count": 12,
   "outputs": [
    {
     "data": {
      "text/plain": "array([[[  0.,   0.,   0.],\n        [  0.,   0.,   0.],\n        [  0.,   0.,   0.],\n        ...,\n        [  0.,   0.,   0.],\n        [  0.,   0.,   0.],\n        [  0.,   0.,   0.]],\n\n       [[  0.,   0.,   0.],\n        [  0.,   0.,   0.],\n        [  0.,   0.,   0.],\n        ...,\n        [  0.,   0.,   0.],\n        [  0.,   0.,   0.],\n        [  0.,   0.,   0.]],\n\n       [[  0.,   0.,   0.],\n        [  0.,   0.,   0.],\n        [255., 255., 255.],\n        ...,\n        [  0.,   0.,   0.],\n        [  0.,   0.,   0.],\n        [  0.,   0.,   0.]],\n\n       ...,\n\n       [[  0.,   0.,   0.],\n        [  0.,   0.,   0.],\n        [  0.,   0.,   0.],\n        ...,\n        [  0.,   0.,   0.],\n        [  0.,   0.,   0.],\n        [  0.,   0.,   0.]],\n\n       [[  0.,   0.,   0.],\n        [  0.,   0.,   0.],\n        [  0.,   0.,   0.],\n        ...,\n        [  0.,   0.,   0.],\n        [  0.,   0.,   0.],\n        [  0.,   0.,   0.]],\n\n       [[  0.,   0.,   0.],\n        [  0.,   0.,   0.],\n        [  0.,   0.,   0.],\n        ...,\n        [  0.,   0.,   0.],\n        [  0.,   0.,   0.],\n        [  0.,   0.,   0.]]])"
     },
     "execution_count": 12,
     "metadata": {},
     "output_type": "execute_result"
    }
   ],
   "source": [
    "map_matrix"
   ],
   "metadata": {
    "collapsed": false,
    "pycharm": {
     "name": "#%%\n"
    }
   }
  },
  {
   "cell_type": "code",
   "execution_count": 13,
   "outputs": [],
   "source": [
    "# map_matrix\n",
    "# map_matrix.shape # (20,20,3)\n",
    "height = map_matrix.shape[0]\n",
    "width = map_matrix.shape[1]\n",
    "start_rgb = (255, 255, 255)\n",
    "obstacle_rgb = (0, 30, 0)\n",
    "goal_rgb = (255, 0, 0)\n",
    "start_indices = np.argwhere(np.all(map_matrix == start_rgb, axis=-1))\n",
    "obstacle_indices = np.argwhere(np.all(map_matrix == obstacle_rgb, axis=-1))\n",
    "goal_indices = np.argwhere(np.all(map_matrix == goal_rgb, axis=-1))\n",
    "\n",
    "dx = [0, 1, 0, -1]\n",
    "dy = [1, 0, -1, 0]\n",
    "actions = [0, 1, 2, 3]\n",
    "states = [(x, y) for x in range(height) for y in range(width)]\n",
    "gamma = 0.8\n",
    "theta = 0.0001"
   ],
   "metadata": {
    "collapsed": false,
    "pycharm": {
     "name": "#%%\n"
    }
   }
  },
  {
   "cell_type": "code",
   "execution_count": 14,
   "outputs": [
    {
     "data": {
      "text/plain": "<Figure size 432x288 with 1 Axes>",
      "image/png": "[encoded data removed]"
     },
     "metadata": {
      "needs_background": "light"
     },
     "output_type": "display_data"
    }
   ],
   "source": [
    "reward_matrix = np.load('lab12_reward_matrix.npy')\n",
    "plt.imshow(reward_matrix)\n",
    "plt.show()"
   ],
   "metadata": {
    "collapsed": false,
    "pycharm": {
     "name": "#%%\n"
    }
   }
  },
  {
   "cell_type": "code",
   "execution_count": 15,
   "outputs": [
    {
     "data": {
      "text/plain": "(20, 20)"
     },
     "execution_count": 15,
     "metadata": {},
     "output_type": "execute_result"
    }
   ],
   "source": [
    "# reward_matrix\n",
    "reward_matrix.shape  # (20,20)"
   ],
   "metadata": {
    "collapsed": false,
    "pycharm": {
     "name": "#%%\n"
    }
   }
  },
  {
   "cell_type": "code",
   "execution_count": 16,
   "outputs": [],
   "source": [
    "v = np.zeros_like(reward_matrix)\n",
    "policy = np.zeros_like(reward_matrix, dtype=int)\n",
    "\n",
    "while True:\n",
    "    delta = 0\n",
    "    for s in states:\n",
    "        best_action_value = -np.inf\n",
    "        best_action = -1\n",
    "        x, y = s\n",
    "        for action in actions:\n",
    "            new_x = x + dx[action]\n",
    "            new_y = y + dy[action]\n",
    "            if 0 <= new_x < height and 0 <= new_y < width:\n",
    "                value = reward_matrix[x][y] + gamma * v[new_x, new_y]\n",
    "                if best_action_value < value:\n",
    "                    best_action_value = value\n",
    "                    best_action = action\n",
    "        action = policy[x][y]\n",
    "        new_x = x + dx[action]\n",
    "        new_y = y + dy[action]\n",
    "        if 0 <= new_x < height and 0 <= new_y < width and best_action_value <= reward_matrix[x][y] + gamma * v[\n",
    "            new_x, new_y]:\n",
    "            continue\n",
    "        policy[x][y] = best_action\n",
    "        if delta < np.abs(best_action_value - v[s]):\n",
    "            delta = np.abs(best_action_value - v[s])\n",
    "    for s in states:\n",
    "        x, y = s\n",
    "        action = policy[x][y]\n",
    "        new_x = x + dx[action]\n",
    "        new_y = y + dy[action]\n",
    "        if 0 <= new_x < height and 0 <= new_y < width:\n",
    "            v[x][y] = reward_matrix[x][y] + gamma * v[new_x, new_y]\n",
    "        else:\n",
    "            v[x][y] = -np.inf\n",
    "    if delta < theta:\n",
    "        break\n",
    "\n",
    "next_index = list(start_indices[0])\n",
    "while next_index not in goal_indices.tolist():\n",
    "    map_matrix[next_index[0], next_index[1], :] = 255\n",
    "    action = policy[next_index[0], next_index[1]]\n",
    "    next_index[0] += dx[action]\n",
    "    next_index[1] += dy[action]"
   ],
   "metadata": {
    "collapsed": false,
    "pycharm": {
     "name": "#%%\n"
    }
   }
  },
  {
   "cell_type": "code",
   "execution_count": 17,
   "outputs": [
    {
     "name": "stderr",
     "output_type": "stream",
     "text": [
      "Clipping input data to the valid range for imshow with RGB data ([0..1] for floats or [0..255] for integers).\n"
     ]
    },
    {
     "data": {
      "text/plain": "<Figure size 432x288 with 1 Axes>",
      "image/png": "[encoded data removed]"
     },
     "metadata": {
      "needs_background": "light"
     },
     "output_type": "display_data"
    }
   ],
   "source": [
    "# print the shortest path\n",
    "\n",
    "plt.imshow(map_matrix)\n",
    "plt.show()"
   ],
   "metadata": {
    "collapsed": false,
    "pycharm": {
     "name": "#%%\n"
    }
   }
  },
  {
   "cell_type": "markdown",
   "source": [
    "## Questions\n",
    "1. In Reinforcement Learning (RL), the problem to resolve is described as a Markov Decision Process (MDP). Theoretical results in RL rely on the MDP description being a correct match to the problem. If your problem is well described as a MDP, then RL may be a good framework to use to find solutions.\n",
    "2. The two required properties of dynamic programming are:\n",
    "    * Optimal substructure: optimal solution of the sub-problem can be used to solve the overall problem.\n",
    "    * Overlapping sub-problems: sub-problems recur many times. Solutions of sub-problems can be cached and reused.\n",
    "When the problem dosen't have such conditions, the MDP methods performs poorly.\n",
    "\n",
    "3. If the conditions of the second question are satisfied and the problem is a  Markov process."
   ],
   "metadata": {
    "collapsed": false,
    "pycharm": {
     "name": "#%% md\n"
    }
   }
  }
 ],
 "metadata": {
  "kernelspec": {
   "display_name": "Python 3",
   "language": "python",
   "name": "python3"
  },
  "language_info": {
   "codemirror_mode": {
    "name": "ipython",
    "version": 2
   },
   "file_extension": ".py",
   "mimetype": "text/x-python",
   "name": "python",
   "nbconvert_exporter": "python",
   "pygments_lexer": "ipython2",
   "version": "2.7.6"
  }
 },
 "nbformat": 4,
 "nbformat_minor": 0
}
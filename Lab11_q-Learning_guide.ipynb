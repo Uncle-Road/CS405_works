{
 "cells": [
  {
   "cell_type": "markdown",
   "metadata": {
    "pycharm": {
     "name": "#%% md\n"
    }
   },
   "source": []
  },
  {
   "cell_type": "markdown",
   "metadata": {},
   "source": [
    "# Q-Learning"
   ]
  },
  {
   "cell_type": "markdown",
   "metadata": {},
   "source": [
    "In this homework, you should complete the Q-learning algorithm for the environment gym taxi"
   ]
  },
  {
   "cell_type": "code",
   "execution_count": 101,
   "metadata": {},
   "outputs": [],
   "source": [
    "import gym\n",
    "import numpy as np\n",
    "import random\n",
    "\n",
    "# the None is the position you should modeify to complete the algorithm"
   ]
  },
  {
   "cell_type": "markdown",
   "metadata": {},
   "source": [
    "## Step 1 Creat the environment\n",
    "Using the API imported from gym"
   ]
  },
  {
   "cell_type": "code",
   "execution_count": 102,
   "metadata": {},
   "outputs": [
    {
     "name": "stdout",
     "output_type": "stream",
     "text": [
      "+---------+\n",
      "|\u001B[34;1mR\u001B[0m: | : :\u001B[35mG\u001B[0m|\n",
      "| : | : : |\n",
      "| :\u001B[43m \u001B[0m: : : |\n",
      "| | : | : |\n",
      "|Y| : |B: |\n",
      "+---------+\n",
      "\n"
     ]
    }
   ],
   "source": [
    "env = gym.make('Taxi-v3')\n",
    "env.render()"
   ]
  },
  {
   "cell_type": "code",
   "execution_count": 103,
   "metadata": {},
   "outputs": [
    {
     "data": {
      "text/plain": [
       "500"
      ]
     },
     "execution_count": 103,
     "metadata": {},
     "output_type": "execute_result"
    }
   ],
   "source": [
    "env.observation_space.n"
   ]
  },
  {
   "cell_type": "code",
   "execution_count": 104,
   "metadata": {},
   "outputs": [
    {
     "data": {
      "text/plain": [
       "6"
      ]
     },
     "execution_count": 104,
     "metadata": {},
     "output_type": "execute_result"
    }
   ],
   "source": [
    "env.action_space.n"
   ]
  },
  {
   "cell_type": "markdown",
   "metadata": {},
   "source": [
    "## Step 2  Create the Q-table and initialize it"
   ]
  },
  {
   "cell_type": "markdown",
   "metadata": {},
   "source": [
    "You can use the gym api to fetch the dimension of action space and state space"
   ]
  },
  {
   "cell_type": "code",
   "execution_count": 105,
   "metadata": {},
   "outputs": [
    {
     "data": {
      "text/plain": [
       "array([[0., 0., 0., 0., 0., 0.],\n",
       "       [0., 0., 0., 0., 0., 0.],\n",
       "       [0., 0., 0., 0., 0., 0.],\n",
       "       ...,\n",
       "       [0., 0., 0., 0., 0., 0.],\n",
       "       [0., 0., 0., 0., 0., 0.],\n",
       "       [0., 0., 0., 0., 0., 0.]])"
      ]
     },
     "execution_count": 105,
     "metadata": {},
     "output_type": "execute_result"
    }
   ],
   "source": [
    "action_space = env.action_space.n\n",
    "state_space = env.observation_space.n\n",
    "\n",
    "# Please complete this initialization in this line\n",
    "Q_table = np.zeros((state_space,action_space))\n",
    "Q_table"
   ]
  },
  {
   "cell_type": "markdown",
   "metadata": {},
   "source": [
    "## Step 3 Configure the hyperparameters"
   ]
  },
  {
   "cell_type": "code",
   "execution_count": 106,
   "metadata": {},
   "outputs": [],
   "source": [
    "total_episodes = 20000\n",
    "total_test_episodes = 100\n",
    "learning_rate= 0.81\n",
    "max_steps = 100\n",
    "# discount rate\n",
    "gamma= 0.96\n",
    "\n",
    "# Create the hyperparameters\n",
    "sample_rewards = []"
   ]
  },
  {
   "cell_type": "markdown",
   "metadata": {},
   "source": [
    "## Step 4 Q Learning algorithm"
   ]
  },
  {
   "cell_type": "markdown",
   "metadata": {},
   "source": [
    "Note: The formula of Q table update(Bellman equation)\n",
    "    ![Bellman equation](https://raw.githubusercontent.com/hanruihua/NoteBook/master/AI-Note/equation.png)"
   ]
  },
  {
   "cell_type": "code",
   "execution_count": 107,
   "metadata": {},
   "outputs": [
    {
     "name": "stdout",
     "output_type": "stream",
     "text": [
      "average reward:0: -578.0\n",
      "average reward:1000: -18.332\n",
      "average reward:2000: 7.848\n",
      "average reward:3000: 7.775\n",
      "average reward:4000: 7.951\n",
      "average reward:5000: 7.841\n",
      "average reward:6000: 7.886\n",
      "average reward:7000: 7.824\n",
      "average reward:8000: 7.915\n",
      "average reward:9000: 8.073\n",
      "average reward:10000: 7.86\n",
      "average reward:11000: 7.867\n",
      "average reward:12000: 7.779\n",
      "average reward:13000: 7.788\n",
      "average reward:14000: 8.047\n",
      "average reward:15000: 7.958\n",
      "average reward:16000: 7.78\n",
      "average reward:17000: 7.737\n",
      "average reward:18000: 7.785\n",
      "average reward:19000: 7.848\n"
     ]
    }
   ],
   "source": [
    "for episode in range(total_episodes):\n",
    "    state = env.reset()\n",
    "    step = 0\n",
    "    done = False\n",
    "    sample_reward = 0\n",
    "    while True:\n",
    "        # Please complete this action selection in this line via the maximum value\n",
    "        #todo\n",
    "        action = np.argmax(Q_table[state, :])\n",
    "\n",
    "        # fetech the new state and reward by gym API\n",
    "        new_state, reward, done, info = env.step(action)\n",
    "        # Calculate the reward of this episode\n",
    "        sample_reward += reward\n",
    "\n",
    "        # Update the Q table\n",
    "        Q_table[state, action] = Q_table[state, action] + learning_rate * (\n",
    "                    reward + gamma * np.max(Q_table[new_state, :]) - Q_table[state, action])\n",
    "\n",
    "        # Update the state\n",
    "        state = new_state\n",
    "\n",
    "        #store the episode reward\n",
    "        if done == True:\n",
    "            sample_rewards.append(sample_reward)\n",
    "            break\n",
    "\n",
    "    # print the average reward over 1000 episodes\n",
    "    if episode % 1000 == 0:\n",
    "        mean_reward = np.mean(sample_rewards)\n",
    "        sample_rewards = []\n",
    "        print(\"average reward:\" + str(episode) + \": \" + str(mean_reward))"
   ]
  },
  {
   "cell_type": "markdown",
   "metadata": {},
   "source": [
    "## Step 5 Test your Q table"
   ]
  },
  {
   "cell_type": "code",
   "execution_count": 108,
   "metadata": {},
   "outputs": [
    {
     "name": "stdout",
     "output_type": "stream",
     "text": [
      "test:\n",
      "average reward over 100 episode:8.6\n"
     ]
    }
   ],
   "source": [
    "env.reset()\n",
    "rewards=[]\n",
    "\n",
    "for episode in range(total_test_episodes):\n",
    "    state=env.reset()\n",
    "    step = 0\n",
    "    done =False\n",
    "    total_rewards = 0\n",
    "\n",
    "    for step in range(max_steps):\n",
    "        #  action selection\n",
    "        action = np.argmax(Q_table[state, :])\n",
    "        # fetech the new state and reward by gym API\n",
    "        new_state, reward, done, info = env.step(action)\n",
    "\n",
    "        total_rewards += reward\n",
    "        if done:\n",
    "            rewards.append(total_rewards)\n",
    "            break\n",
    "        state = new_state\n",
    "\n",
    "env.close()\n",
    "print(\"test:\")\n",
    "print(\"average reward over 100 episode:\"+ str(np.mean(rewards)))"
   ]
  },
  {
   "cell_type": "markdown",
   "metadata": {
    "pycharm": {
     "name": "#%% md\n"
    }
   },
   "source": [
    "## Questions:\n",
    "\n",
    "Q1: \n",
    "\n",
    "Advantages of reinforcement learning are: **Maximizes Performance**. **Sustain Change for a long period of time**. **Too much Reinforcement can lead to an overload of states** which can diminish the results\n",
    "\n",
    "Q2:\n",
    "\n",
    "**Too much reinforcement learning can lead to an overload of states which can diminish the results**. This algorithm is not preferable for solving simple problems. This algorithm needs a lot of data and a lot of computation.\n",
    "\n",
    "Q3:\n",
    "\n",
    "If the problem can be described as a sequential decision problem and can define the state, action and the rewards, we can use reinforcement learning to solve it."
   ]
  }
 ],
 "metadata": {
  "file_extension": ".py",
  "kernelspec": {
   "display_name": "Python 3 (ipykernel)",
   "language": "python",
   "name": "python3"
  },
  "language_info": {
   "codemirror_mode": {
    "name": "ipython",
    "version": 3
   },
   "file_extension": ".py",
   "mimetype": "text/x-python",
   "name": "python",
   "nbconvert_exporter": "python",
   "pygments_lexer": "ipython3",
   "version": "3.9.4"
  },
  "mimetype": "text/x-python",
  "name": "python",
  "npconvert_exporter": "python",
  "pygments_lexer": "ipython3",
  "version": 3
 },
 "nbformat": 4,
 "nbformat_minor": 2
}
{
 "cells": [
  {
   "cell_type": "markdown",
   "metadata": {
    "collapsed": true,
    "pycharm": {
     "name": "#%% md\n"
    }
   },
   "source": [
    "##LAB 9 K-means Clustering"
   ]
  },
  {
   "cell_type": "code",
   "execution_count": 33,
   "outputs": [],
   "source": [
    "# import lib\n",
    "import numpy as np\n",
    "from numpy.matlib import repmat\n",
    "from sklearn.preprocessing import normalize\n",
    "import matplotlib.pyplot as plt\n",
    "import cv2\n",
    "\n",
    "\n",
    "def kmeans(data, n_cl, verbose):\n",
    "    n_samples = data.shape()[0]\n",
    "    centers = data[np.random.choice(range(n_samples), size=n_cl)]\n",
    "    old_labels = np.zeros(shape=n_samples)\n",
    "    while True:\n",
    "        distances = np.zeros(shape=(n_samples, n_cl))\n",
    "        for c_idx, c in enumerate(centers):\n",
    "            distances[:, c_idx] = np.sum(np.square(data - repmat(c, n_samples, 1)), axis=1)\n",
    "        new_labels = np.argmin(distances, axis=1)\n",
    "\n",
    "        for l in range(0, n_cl):\n",
    "            centers[l] = np.mean(data[new_labels == 1], axis=0)\n",
    "\n",
    "        if verbose:\n",
    "            fig, ax = plt.subplots()\n",
    "            ax.scatter(data[:, 0].data[:, 1], c=new_labels, s=40)\n",
    "            ax.plot(centers[:, 0], centers[:, 1], 'r*', markersize=20)\n",
    "            plt.waitforbuttonpress()\n",
    "            plt.close()\n",
    "\n",
    "        if np.all(new_labels == old_labels):\n",
    "            break\n",
    "\n",
    "        old_labels = new_labels\n",
    "    return new_labels"
   ],
   "metadata": {
    "collapsed": false,
    "pycharm": {
     "name": "#%%\n"
    }
   }
  },
  {
   "cell_type": "markdown",
   "source": [],
   "metadata": {
    "collapsed": false,
    "pycharm": {
     "name": "#%% md\n"
    }
   }
  },
  {
   "cell_type": "code",
   "execution_count": 34,
   "outputs": [],
   "source": [
    "videoCapture = cv2.VideoCapture('road_video.mov')\n",
    "\n",
    "fps = videoCapture.get(cv2.CAP_PROP_FPS)\n",
    "size = (int(videoCapture.get(cv2.CAP_PROP_FRAME_WIDTH)),\n",
    "        int(videoCapture.get(cv2.CAP_PROP_FRAME_HEIGHT)))\n",
    "\n",
    "videoWriter = cv2.VideoWriter('out_video.mp4', cv2.VideoWriter_fourcc(*'mp4v'), (fps / 10), size)\n",
    "videoWriter.isOpened()\n",
    "# print(fps)\n",
    "# print(size)\n",
    "success, frame = videoCapture.read()\n",
    "#every time read one frame"
   ],
   "metadata": {
    "collapsed": false,
    "pycharm": {
     "name": "#%%\n"
    }
   }
  },
  {
   "cell_type": "code",
   "execution_count": 35,
   "outputs": [
    {
     "ename": "TypeError",
     "evalue": "cannot unpack non-iterable int object",
     "output_type": "error",
     "traceback": [
      "\u001B[1;31m---------------------------------------------------------------------------\u001B[0m",
      "\u001B[1;31mTypeError\u001B[0m                                 Traceback (most recent call last)",
      "\u001B[1;32m~\\AppData\\Local\\Temp/ipykernel_12588/4009225106.py\u001B[0m in \u001B[0;36m<module>\u001B[1;34m\u001B[0m\n\u001B[0;32m      2\u001B[0m \u001B[1;32mwhile\u001B[0m \u001B[0msuccess\u001B[0m\u001B[1;33m:\u001B[0m\u001B[1;33m\u001B[0m\u001B[1;33m\u001B[0m\u001B[0m\n\u001B[0;32m      3\u001B[0m     \u001B[0mimg\u001B[0m \u001B[1;33m=\u001B[0m \u001B[0mnp\u001B[0m\u001B[1;33m.\u001B[0m\u001B[0mfloat32\u001B[0m\u001B[1;33m(\u001B[0m\u001B[0mframe\u001B[0m\u001B[1;33m)\u001B[0m\u001B[1;33m\u001B[0m\u001B[1;33m\u001B[0m\u001B[0m\n\u001B[1;32m----> 4\u001B[1;33m     \u001B[0mh\u001B[0m\u001B[1;33m,\u001B[0m \u001B[0mw\u001B[0m\u001B[1;33m,\u001B[0m \u001B[0mc\u001B[0m \u001B[1;33m=\u001B[0m \u001B[0mimg\u001B[0m\u001B[1;33m.\u001B[0m\u001B[0mshape\u001B[0m\u001B[1;33m[\u001B[0m\u001B[1;36m0\u001B[0m\u001B[1;33m]\u001B[0m\u001B[1;33m\u001B[0m\u001B[1;33m\u001B[0m\u001B[0m\n\u001B[0m\u001B[0;32m      5\u001B[0m \u001B[1;33m\u001B[0m\u001B[0m\n\u001B[0;32m      6\u001B[0m     \u001B[0mrow_indexes\u001B[0m \u001B[1;33m=\u001B[0m \u001B[0mnp\u001B[0m\u001B[1;33m.\u001B[0m\u001B[0marange\u001B[0m\u001B[1;33m(\u001B[0m\u001B[1;36m0\u001B[0m\u001B[1;33m,\u001B[0m \u001B[0mh\u001B[0m\u001B[1;33m)\u001B[0m\u001B[1;33m\u001B[0m\u001B[1;33m\u001B[0m\u001B[0m\n",
      "\u001B[1;31mTypeError\u001B[0m: cannot unpack non-iterable int object"
     ]
    }
   ],
   "source": [
    "count = 0\n",
    "while success:\n",
    "    img = np.float32(frame)\n",
    "    h, w, c = img.shape[0]\n",
    "\n",
    "    row_indexes = np.arange(0, h)\n",
    "    col_indexes = np.arange(0, w)\n",
    "    coordinates = np.zeros(shape=(h, w, 2))\n",
    "    coordinates[..., 0] = normalize(repmat(row_indexes, w, 1).T)\n",
    "    coordinates[..., 1] = normalize(repmat(col_indexes, h, 1))\n",
    "\n",
    "    data = np.concatenate((img, coordinates), axis=-1)\n",
    "    data = np.reshape(data, newshape=(w * h, 5))\n",
    "\n",
    "    labels = kmeans(data, n_cl=3, verbose=False)\n",
    "    frame = (np.reshape(labels, (h, w)) * 255.0).astype('u1')\n",
    "\n",
    "    img_out = cv2.cvtColor(frame, cv2.COLOR_GRAY2RGB)\n",
    "    videoWriter.write(img_out)\n",
    "\n",
    "    count = count + 1\n",
    "    print(str(count)+\" frame have read\")\n",
    "    success, frame = videoCapture.read()\n",
    "\n",
    "videoWriter.release()\n",
    "videoCapture.release()\n",
    "cv2.destroyAllWindows()\n",
    "\n",
    "\n",
    "\n",
    "\n"
   ],
   "metadata": {
    "collapsed": false,
    "pycharm": {
     "name": "#%%\n"
    }
   }
  }
 ],
 "metadata": {
  "kernelspec": {
   "display_name": "Python 3",
   "language": "python",
   "name": "python3"
  },
  "language_info": {
   "codemirror_mode": {
    "name": "ipython",
    "version": 2
   },
   "file_extension": ".py",
   "mimetype": "text/x-python",
   "name": "python",
   "nbconvert_exporter": "python",
   "pygments_lexer": "ipython2",
   "version": "2.7.6"
  }
 },
 "nbformat": 4,
 "nbformat_minor": 0
}
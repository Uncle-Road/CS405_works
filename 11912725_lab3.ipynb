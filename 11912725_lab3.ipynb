{
 "cells": [
  {
   "cell_type": "markdown",
   "metadata": {
    "collapsed": true,
    "pycharm": {
     "name": "#%% md\n"
    }
   },
   "source": [
    "###Lab3"
   ]
  },
  {
   "cell_type": "code",
   "execution_count": 13,
   "outputs": [
    {
     "name": "stdout",
     "output_type": "stream",
     "text": [
      "[[126   4]\n",
      " [  6 124]]\n",
      "[[129   1]\n",
      " [  9 121]]\n"
     ]
    }
   ],
   "source": [
    "import os\n",
    "import numpy as np\n",
    "from collections import Counter\n",
    "from sklearn.naive_bayes import MultinomialNB\n",
    "from sklearn.svm import LinearSVC\n",
    "from sklearn.metrics import confusion_matrix\n",
    "\n",
    "\n",
    "def make_Dictionary(train_dir):\n",
    "    emails = [os.path.join(train_dir, f) for f in os.listdir(train_dir)]\n",
    "    all_words = []\n",
    "    for mail in emails:\n",
    "        with open(mail) as m:\n",
    "            for i, line in enumerate(m):\n",
    "                if i == 2:\n",
    "                    words = line.split()\n",
    "                    all_words += words\n",
    "\n",
    "    dictionary = Counter(all_words)\n",
    "\n",
    "    cpy = dictionary.copy()\n",
    "    list_to_remove = cpy.keys()\n",
    "    for item in list_to_remove:\n",
    "        if item.isalpha() == False:\n",
    "            del dictionary[item]\n",
    "        elif len(item) == 1:\n",
    "            del dictionary[item]\n",
    "    dictionary = dictionary.most_common(3000)\n",
    "    return dictionary\n",
    "\n",
    "\n",
    "def extract_features(mail_dir):\n",
    "    files = [os.path.join(mail_dir, fi) for fi in os.listdir(mail_dir)]\n",
    "    features_matrix = np.zeros((len(files), 3000))\n",
    "    docID = 0\n",
    "    for fil in files:\n",
    "        with open(fil) as fi:\n",
    "            for i, line in enumerate(fi):\n",
    "                if i == 2:\n",
    "                    words = line.split()\n",
    "                    for word in words:\n",
    "                        wordID = 0\n",
    "                        for i, d in enumerate(dictionary):\n",
    "                            if d[0] == word:\n",
    "                                wordID = i\n",
    "                                features_matrix[docID, wordID] = words.count(word)\n",
    "            docID = docID + 1\n",
    "    return features_matrix\n",
    "\n",
    "\n",
    "# Create a dictionary of words with its frequency\n",
    "\n",
    "train_dir = 'train-mails'\n",
    "dictionary = make_Dictionary(train_dir)\n",
    "\n",
    "# Prepare feature vectors per training mail and its labels\n",
    "\n",
    "train_labels = np.zeros(702)\n",
    "train_labels[351:701] = 1\n",
    "train_matrix = extract_features(train_dir)\n",
    "\n",
    "# Training SVM and Naive bayes classifier and its variants\n",
    "\n",
    "model1 = LinearSVC()\n",
    "model2 = MultinomialNB()\n",
    "\n",
    "model1.fit(train_matrix, train_labels)\n",
    "model2.fit(train_matrix, train_labels)\n",
    "\n",
    "# Test the unseen mails for Spam\n",
    "\n",
    "test_dir = 'test-mails'\n",
    "test_matrix = extract_features(test_dir)\n",
    "test_labels = np.zeros(260)\n",
    "test_labels[130:260] = 1\n",
    "\n",
    "result1 = model1.predict(test_matrix)\n",
    "result2 = model2.predict(test_matrix)\n",
    "\n",
    "print(confusion_matrix(test_labels, result1))\n",
    "print (confusion_matrix(test_labels, result2))"
   ],
   "metadata": {
    "collapsed": false,
    "pycharm": {
     "name": "#%%\n"
    }
   }
  },
  {
   "cell_type": "markdown",
   "source": [
    "_Test-set contains 130 spam emails and 130 non-spam emails._\n",
    "we can get the **result**:\n",
    "\n",
    "| Naive Bayes | ham | spam |\n",
    "| :---: | :---: | :---: |\n",
    "|ham|129|1|\n",
    "|spam|9|121|\n",
    "\n",
    "| SVM | ham | spam |\n",
    "| :---: | :---: | :---: |\n",
    "|ham|126|4|\n",
    "|spam|6|124|\n",
    "\n",
    "**Conclusion**: in small email set, both the models had similar performance on the test-set except that the SVM has slightly balanced false identifications."
   ],
   "metadata": {
    "collapsed": false,
    "pycharm": {
     "name": "#%% md\n"
    }
   }
  },
  {
   "cell_type": "markdown",
   "source": [
    "#### Question1\n",
    ">Naive Bayes algorithm is widely used in real life, such as text classification, spam classification, credit evaluation, phishing website detection and so on.\n",
    "\n",
    "#### Question2\n",
    "Advantage:\n",
    ">the algorithm logical is simple and stable\n",
    "\n",
    "when the relationship between data set attributes is relatively independent, naive Bayes method perform well\n",
    "\n",
    "#### Question3\n",
    "Disadvantage:\n",
    ">its conditions for attribute independence\n",
    "\n",
    "In many cases, it is difficult to satisfy the independence of the attributes of the data set, because there are often correlations between the attributes of the data set. If this problem occurs in the classification process, the effect of classification will be greatly reduced.\n",
    "\n",
    "#### Question4\n",
    "when The data set attributes are independent and the correlation is small"
   ],
   "metadata": {
    "collapsed": false,
    "pycharm": {
     "name": "#%% md\n"
    }
   }
  }
 ],
 "metadata": {
  "kernelspec": {
   "display_name": "Python 3",
   "language": "python",
   "name": "python3"
  },
  "language_info": {
   "codemirror_mode": {
    "name": "ipython",
    "version": 2
   },
   "file_extension": ".py",
   "mimetype": "text/x-python",
   "name": "python",
   "nbconvert_exporter": "python",
   "pygments_lexer": "ipython2",
   "version": "2.7.6"
  }
 },
 "nbformat": 4,
 "nbformat_minor": 0
}
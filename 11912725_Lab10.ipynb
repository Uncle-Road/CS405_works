{
 "cells": [
  {
   "cell_type": "code",
   "execution_count": 4,
   "outputs": [
    {
     "ename": "ImportError",
     "evalue": "cannot import name 'COLORS' from 'utils' (d:\\python\\lib\\site-packages\\utils\\__init__.py)",
     "output_type": "error",
     "traceback": [
      "\u001B[1;31m---------------------------------------------------------------------------\u001B[0m",
      "\u001B[1;31mImportError\u001B[0m                               Traceback (most recent call last)",
      "\u001B[1;32m~\\AppData\\Local\\Temp/ipykernel_7456/852892098.py\u001B[0m in \u001B[0;36m<module>\u001B[1;34m\u001B[0m\n\u001B[0;32m      1\u001B[0m \u001B[1;32mimport\u001B[0m \u001B[0mnumpy\u001B[0m \u001B[1;32mas\u001B[0m \u001B[0mnp\u001B[0m\u001B[1;33m\u001B[0m\u001B[1;33m\u001B[0m\u001B[0m\n\u001B[1;32m----> 2\u001B[1;33m \u001B[1;32mfrom\u001B[0m \u001B[0mutils\u001B[0m \u001B[1;32mimport\u001B[0m \u001B[0mCOLORS\u001B[0m\u001B[1;33m,\u001B[0m \u001B[0mload_image\u001B[0m\u001B[1;33m\u001B[0m\u001B[1;33m\u001B[0m\u001B[0m\n\u001B[0m\u001B[0;32m      3\u001B[0m \u001B[1;32mfrom\u001B[0m \u001B[0mscipy\u001B[0m\u001B[1;33m.\u001B[0m\u001B[0mstats\u001B[0m \u001B[1;32mimport\u001B[0m \u001B[0mmultivariate_normal\u001B[0m\u001B[1;33m\u001B[0m\u001B[1;33m\u001B[0m\u001B[0m\n\u001B[0;32m      4\u001B[0m \u001B[1;32mfrom\u001B[0m \u001B[0msklearn\u001B[0m\u001B[1;33m.\u001B[0m\u001B[0mcluster\u001B[0m \u001B[1;32mimport\u001B[0m \u001B[0mKMeans\u001B[0m\u001B[1;33m\u001B[0m\u001B[1;33m\u001B[0m\u001B[0m\n\u001B[0;32m      5\u001B[0m \u001B[1;32mfrom\u001B[0m \u001B[0mmatplotlib\u001B[0m \u001B[1;32mimport\u001B[0m \u001B[0mpyplot\u001B[0m \u001B[1;32mas\u001B[0m \u001B[0mplt\u001B[0m\u001B[1;33m\u001B[0m\u001B[1;33m\u001B[0m\u001B[0m\n",
      "\u001B[1;31mImportError\u001B[0m: cannot import name 'COLORS' from 'utils' (d:\\python\\lib\\site-packages\\utils\\__init__.py)"
     ]
    }
   ],
   "source": [
    "import numpy as np\n",
    "from utils import COLORS, load_image\n",
    "from scipy.stats import multivariate_normal\n",
    "from sklearn.cluster import KMeans\n",
    "from matplotlib import pyplot as plt\n",
    "import cv2"
   ],
   "metadata": {
    "collapsed": false,
    "pycharm": {
     "name": "#%%\n"
    }
   }
  },
  {
   "cell_type": "code",
   "execution_count": 5,
   "outputs": [
    {
     "ename": "NameError",
     "evalue": "name 'cv2' is not defined",
     "output_type": "error",
     "traceback": [
      "\u001B[1;31m---------------------------------------------------------------------------\u001B[0m",
      "\u001B[1;31mNameError\u001B[0m                                 Traceback (most recent call last)",
      "\u001B[1;32m~\\AppData\\Local\\Temp/ipykernel_7456/2806070180.py\u001B[0m in \u001B[0;36m<module>\u001B[1;34m\u001B[0m\n\u001B[0;32m     34\u001B[0m         \u001B[0mself\u001B[0m\u001B[1;33m.\u001B[0m\u001B[0mpriors\u001B[0m \u001B[1;33m=\u001B[0m \u001B[0mnp\u001B[0m\u001B[1;33m.\u001B[0m\u001B[0masarray\u001B[0m\u001B[1;33m(\u001B[0m\u001B[0mnew_priors\u001B[0m\u001B[1;33m)\u001B[0m\u001B[1;33m\u001B[0m\u001B[1;33m\u001B[0m\u001B[0m\n\u001B[0;32m     35\u001B[0m \u001B[1;33m\u001B[0m\u001B[0m\n\u001B[1;32m---> 36\u001B[1;33m \u001B[0mvideoCapture\u001B[0m \u001B[1;33m=\u001B[0m \u001B[0mcv2\u001B[0m\u001B[1;33m.\u001B[0m\u001B[0mVideoCapture\u001B[0m\u001B[1;33m(\u001B[0m\u001B[1;34m\"road_video.MOV\"\u001B[0m\u001B[1;33m)\u001B[0m\u001B[1;33m\u001B[0m\u001B[1;33m\u001B[0m\u001B[0m\n\u001B[0m\u001B[0;32m     37\u001B[0m \u001B[0mfps\u001B[0m \u001B[1;33m=\u001B[0m \u001B[0mvideoCapture\u001B[0m\u001B[1;33m.\u001B[0m\u001B[0mget\u001B[0m\u001B[1;33m(\u001B[0m\u001B[0mcv2\u001B[0m\u001B[1;33m.\u001B[0m\u001B[0mCAP_PROP_FPS\u001B[0m\u001B[1;33m)\u001B[0m\u001B[1;33m\u001B[0m\u001B[1;33m\u001B[0m\u001B[0m\n\u001B[0;32m     38\u001B[0m size = (int(videoCapture.get(cv2.CAP_PROP_FRAME_WIDTH)),\n",
      "\u001B[1;31mNameError\u001B[0m: name 'cv2' is not defined"
     ]
    }
   ],
   "source": [
    "class GMM():\n",
    "    def __init__(self, ncomp, initial_mus, initial_covs, initial_priors):\n",
    "        self.ncomp = ncomp\n",
    "        self.mus = np.asarray(initial_mus)\n",
    "        self.covs = np.asarray(initial_covs)\n",
    "        self.priors = np.asarray(initial_priors)\n",
    "    def inference(self, datas):\n",
    "        unnormalized_probs = []\n",
    "        for i in range(self.ncomp):\n",
    "            mu, cov, prior = self.mus[i, :], self.covs[i, :, :], self.priors[i]\n",
    "            unnormalized_prob = prior * \\\n",
    "                multivariate_normal.pdf(datas, mean=mu, cov=cov)\n",
    "            unnormalized_probs.append(np.expand_dims(unnormalized_prob, -1))\n",
    "        preds = np.concatenate(unnormalized_probs, axis=1)\n",
    "        log_likelihood = np.sum(preds, axis=1)\n",
    "        log_likelihood = np.sum(np.log(log_likelihood))\n",
    "        preds = preds / np.sum(preds, axis=1, keepdims=True)\n",
    "        return np.asarray(preds), log_likelihood\n",
    "    def update(self, datas, beliefs):\n",
    "        new_mus, new_covs, new_priors = [], [], []\n",
    "        soft_counts = np.sum(beliefs, axis=0)\n",
    "        for i in range(self.ncomp):\n",
    "            new_mu = np.sum(np.expand_dims(beliefs[:, i], -1) * datas, axis=0)\n",
    "            new_mu /= soft_counts[i]\n",
    "            new_mus.append(new_mu)\n",
    "            data_shifted = np.subtract(datas, np.expand_dims(new_mu, 0))\n",
    "            new_cov = np.matmul(np.transpose(np.multiply(\n",
    "                np.expand_dims(beliefs[:, i], -1), data_shifted)), data_shifted)\n",
    "            new_cov /= soft_counts[i]\n",
    "            new_covs.append(new_cov)\n",
    "            new_priors.append(soft_counts[i] / np.sum(soft_counts))\n",
    "        self.mus = np.asarray(new_mus)\n",
    "        self.covs = np.asarray(new_covs)\n",
    "        self.priors = np.asarray(new_priors)\n",
    "\n",
    "videoCapture = cv2.VideoCapture(\"road_video.MOV\")\n",
    "fps = videoCapture.get(cv2.CAP_PROP_FPS)\n",
    "size = (int(videoCapture.get(cv2.CAP_PROP_FRAME_WIDTH)),\n",
    "int(videoCapture.get(cv2.CAP_PROP_FRAME_HEIGHT)))\n",
    "success, image = videoCapture.read()\n",
    "\n",
    "image_height, image_width, image_channels = image.shape\n",
    "image_pixels = np.reshape(image, (-1, image_channels))\n",
    "_mean = np.mean(image_pixels, axis=0, keepdims=True)\n",
    "_std = np.std(image_pixels, axis=0, keepdims=True)\n",
    "image_pixels = (image_pixels - _mean) / _std\n",
    "\n",
    "ncomp = int(3)\n",
    "kmeans = KMeans(n_clusters=ncomp)\n",
    "labels = kmeans.fit_predict(image_pixels)\n",
    "initial_mus = kmeans.cluster_centers_\n",
    "initial_priors, initial_covs = [], []\n",
    "\n",
    "for i in range(ncomp):\n",
    "    datas = np.array([image_pixels[j, :]\n",
    "    for j in range(len(labels)) if labels[j] == i]).T\n",
    "    initial_covs.append(np.cov(datas))\n",
    "    initial_priors.append(datas.shape[1] / float(len(labels)))\n",
    "gmm = GMM(ncomp, initial_mus, initial_covs, initial_priors)\n",
    "prev_log_likelihood = None\n",
    "for i in range(1000):\n",
    "    beliefs, log_likelihood = gmm.inference(image_pixels)\n",
    "    gmm.update(image_pixels, beliefs)\n",
    "    print('Iteration {}: Log Likelihood = {}'.format(i+1, log_likelihood))\n",
    "    if prev_log_likelihood != None and abs(log_likelihood - prev_log_likelihood) < 1e-10:\n",
    "        break\n",
    "    prev_log_likelihood = log_likelihood\n",
    "beliefs, log_likelihood = gmm.inference(image_pixels)\n",
    "map_beliefs = np.reshape(beliefs, (image_height, image_width, ncomp))\n",
    "segmented_map = np.zeros((image_height, image_width, 3))\n",
    "for i in range(image_height):\n",
    "    for j in range(image_width):\n",
    "        hard_belief = np.argmax(map_beliefs[i, j, :])\n",
    "        segmented_map[i, j, :] = np.asarray(COLORS[hard_belief]) / 255.0\n",
    "plt.imshow(segmented_map)\n",
    "plt.show()"
   ],
   "metadata": {
    "collapsed": false,
    "pycharm": {
     "name": "#%%\n"
    }
   }
  }
 ],
 "metadata": {
  "kernelspec": {
   "display_name": "Python 3",
   "language": "python",
   "name": "python3"
  },
  "language_info": {
   "codemirror_mode": {
    "name": "ipython",
    "version": 2
   },
   "file_extension": ".py",
   "mimetype": "text/x-python",
   "name": "python",
   "nbconvert_exporter": "python",
   "pygments_lexer": "ipython2",
   "version": "2.7.6"
  }
 },
 "nbformat": 4,
 "nbformat_minor": 0
}